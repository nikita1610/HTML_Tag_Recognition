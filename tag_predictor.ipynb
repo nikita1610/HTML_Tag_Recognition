{
 "cells": [
  {
   "cell_type": "code",
   "execution_count": 1,
   "metadata": {},
   "outputs": [],
   "source": [
    "import pandas as pd\n",
    "import numpy as np\n",
    "import tensorflow.compat.v1 as tf\n",
    "import sklearn\n",
    "import cv2\n",
    "import matplotlib.pyplot as plt"
   ]
  },
  {
   "cell_type": "code",
   "execution_count": 2,
   "metadata": {},
   "outputs": [
    {
     "name": "stdout",
     "output_type": "stream",
     "text": [
      "0.25.3\n",
      "1.17.3\n",
      "2.0.0\n",
      "0.21.3\n",
      "4.1.1\n"
     ]
    }
   ],
   "source": [
    "print(pd.__version__)\n",
    "print(np.__version__)\n",
    "print(tf.__version__)\n",
    "print(sklearn.__version__)\n",
    "print(cv2.__version__)"
   ]
  },
  {
   "cell_type": "code",
   "execution_count": 3,
   "metadata": {},
   "outputs": [],
   "source": [
    "import os"
   ]
  },
  {
   "cell_type": "code",
   "execution_count": 4,
   "metadata": {},
   "outputs": [],
   "source": [
    "image_dir = 'dataset/images/'\n",
    "labels = 'dataset/labels.csv'"
   ]
  },
  {
   "cell_type": "code",
   "execution_count": 5,
   "metadata": {},
   "outputs": [],
   "source": [
    "assert os.path.exists(os.path.abspath(image_dir))\n",
    "assert os.path.exists(os.path.abspath(labels))"
   ]
  },
  {
   "cell_type": "code",
   "execution_count": 6,
   "metadata": {},
   "outputs": [
    {
     "name": "stdout",
     "output_type": "stream",
     "text": [
      "/html_tag_recognizer/dataset/images\n",
      "/html_tag_recognizer/dataset/labels.csv\n"
     ]
    }
   ],
   "source": [
    "print(os.path.abspath(image_dir))\n",
    "print(os.path.abspath(labels))"
   ]
  },
  {
   "cell_type": "code",
   "execution_count": 7,
   "metadata": {},
   "outputs": [],
   "source": [
    "df = pd.read_csv(labels)"
   ]
  },
  {
   "cell_type": "code",
   "execution_count": 8,
   "metadata": {},
   "outputs": [
    {
     "data": {
      "text/html": [
       "<div>\n",
       "<style scoped>\n",
       "    .dataframe tbody tr th:only-of-type {\n",
       "        vertical-align: middle;\n",
       "    }\n",
       "\n",
       "    .dataframe tbody tr th {\n",
       "        vertical-align: top;\n",
       "    }\n",
       "\n",
       "    .dataframe thead th {\n",
       "        text-align: right;\n",
       "    }\n",
       "</style>\n",
       "<table border=\"1\" class=\"dataframe\">\n",
       "  <thead>\n",
       "    <tr style=\"text-align: right;\">\n",
       "      <th></th>\n",
       "      <th>Unnamed: 0</th>\n",
       "      <th>Name</th>\n",
       "      <th>Type</th>\n",
       "    </tr>\n",
       "  </thead>\n",
       "  <tbody>\n",
       "    <tr>\n",
       "      <th>0</th>\n",
       "      <td>0</td>\n",
       "      <td>image1</td>\n",
       "      <td>heading</td>\n",
       "    </tr>\n",
       "    <tr>\n",
       "      <th>1</th>\n",
       "      <td>1</td>\n",
       "      <td>image2</td>\n",
       "      <td>paragraph</td>\n",
       "    </tr>\n",
       "    <tr>\n",
       "      <th>2</th>\n",
       "      <td>2</td>\n",
       "      <td>image3</td>\n",
       "      <td>paragraph</td>\n",
       "    </tr>\n",
       "    <tr>\n",
       "      <th>3</th>\n",
       "      <td>3</td>\n",
       "      <td>image4</td>\n",
       "      <td>button</td>\n",
       "    </tr>\n",
       "    <tr>\n",
       "      <th>4</th>\n",
       "      <td>4</td>\n",
       "      <td>image5</td>\n",
       "      <td>image</td>\n",
       "    </tr>\n",
       "  </tbody>\n",
       "</table>\n",
       "</div>"
      ],
      "text/plain": [
       "   Unnamed: 0    Name       Type\n",
       "0           0  image1    heading\n",
       "1           1  image2  paragraph\n",
       "2           2  image3  paragraph\n",
       "3           3  image4     button\n",
       "4           4  image5      image"
      ]
     },
     "execution_count": 8,
     "metadata": {},
     "output_type": "execute_result"
    }
   ],
   "source": [
    "df.head()"
   ]
  },
  {
   "cell_type": "code",
   "execution_count": 9,
   "metadata": {},
   "outputs": [],
   "source": [
    "del df['Unnamed: 0']"
   ]
  },
  {
   "cell_type": "code",
   "execution_count": 10,
   "metadata": {},
   "outputs": [
    {
     "data": {
      "text/html": [
       "<div>\n",
       "<style scoped>\n",
       "    .dataframe tbody tr th:only-of-type {\n",
       "        vertical-align: middle;\n",
       "    }\n",
       "\n",
       "    .dataframe tbody tr th {\n",
       "        vertical-align: top;\n",
       "    }\n",
       "\n",
       "    .dataframe thead th {\n",
       "        text-align: right;\n",
       "    }\n",
       "</style>\n",
       "<table border=\"1\" class=\"dataframe\">\n",
       "  <thead>\n",
       "    <tr style=\"text-align: right;\">\n",
       "      <th></th>\n",
       "      <th>Name</th>\n",
       "      <th>Type</th>\n",
       "    </tr>\n",
       "  </thead>\n",
       "  <tbody>\n",
       "    <tr>\n",
       "      <th>0</th>\n",
       "      <td>image1</td>\n",
       "      <td>heading</td>\n",
       "    </tr>\n",
       "    <tr>\n",
       "      <th>1</th>\n",
       "      <td>image2</td>\n",
       "      <td>paragraph</td>\n",
       "    </tr>\n",
       "    <tr>\n",
       "      <th>2</th>\n",
       "      <td>image3</td>\n",
       "      <td>paragraph</td>\n",
       "    </tr>\n",
       "    <tr>\n",
       "      <th>3</th>\n",
       "      <td>image4</td>\n",
       "      <td>button</td>\n",
       "    </tr>\n",
       "    <tr>\n",
       "      <th>4</th>\n",
       "      <td>image5</td>\n",
       "      <td>image</td>\n",
       "    </tr>\n",
       "    <tr>\n",
       "      <th>...</th>\n",
       "      <td>...</td>\n",
       "      <td>...</td>\n",
       "    </tr>\n",
       "    <tr>\n",
       "      <th>395</th>\n",
       "      <td>image396</td>\n",
       "      <td>heading</td>\n",
       "    </tr>\n",
       "    <tr>\n",
       "      <th>396</th>\n",
       "      <td>image397</td>\n",
       "      <td>paragraph</td>\n",
       "    </tr>\n",
       "    <tr>\n",
       "      <th>397</th>\n",
       "      <td>image398</td>\n",
       "      <td>image</td>\n",
       "    </tr>\n",
       "    <tr>\n",
       "      <th>398</th>\n",
       "      <td>image399</td>\n",
       "      <td>paragraph</td>\n",
       "    </tr>\n",
       "    <tr>\n",
       "      <th>399</th>\n",
       "      <td>image400</td>\n",
       "      <td>paragraph</td>\n",
       "    </tr>\n",
       "  </tbody>\n",
       "</table>\n",
       "<p>400 rows × 2 columns</p>\n",
       "</div>"
      ],
      "text/plain": [
       "         Name       Type\n",
       "0      image1    heading\n",
       "1      image2  paragraph\n",
       "2      image3  paragraph\n",
       "3      image4     button\n",
       "4      image5      image\n",
       "..        ...        ...\n",
       "395  image396    heading\n",
       "396  image397  paragraph\n",
       "397  image398      image\n",
       "398  image399  paragraph\n",
       "399  image400  paragraph\n",
       "\n",
       "[400 rows x 2 columns]"
      ]
     },
     "execution_count": 10,
     "metadata": {},
     "output_type": "execute_result"
    }
   ],
   "source": [
    "df"
   ]
  },
  {
   "cell_type": "code",
   "execution_count": 11,
   "metadata": {},
   "outputs": [
    {
     "data": {
      "text/plain": [
       "array(['heading', 'paragraph', 'button', 'image', 'navbar', 'hyperlink'],\n",
       "      dtype=object)"
      ]
     },
     "execution_count": 11,
     "metadata": {},
     "output_type": "execute_result"
    }
   ],
   "source": [
    "df.Type.unique()"
   ]
  },
  {
   "cell_type": "code",
   "execution_count": 12,
   "metadata": {},
   "outputs": [
    {
     "data": {
      "text/plain": [
       "hyperlink    89\n",
       "image        87\n",
       "heading      78\n",
       "paragraph    64\n",
       "button       56\n",
       "navbar       26\n",
       "Name: Type, dtype: int64"
      ]
     },
     "execution_count": 12,
     "metadata": {},
     "output_type": "execute_result"
    }
   ],
   "source": [
    "df.Type.value_counts()"
   ]
  },
  {
   "cell_type": "code",
   "execution_count": 13,
   "metadata": {},
   "outputs": [],
   "source": [
    "num_rows = 100\n",
    "num_cols = 100\n",
    "num_channels = 3"
   ]
  },
  {
   "cell_type": "code",
   "execution_count": 14,
   "metadata": {},
   "outputs": [],
   "source": [
    "label_map = {\n",
    "    'heading' : 0,\n",
    "    'paragraph' : 1,\n",
    "    'button' : 2,\n",
    "    'image' : 3,\n",
    "    'navbar' : 4,\n",
    "    'hyperlink' : 5\n",
    "}"
   ]
  },
  {
   "cell_type": "code",
   "execution_count": 15,
   "metadata": {},
   "outputs": [],
   "source": [
    "image_dir_path = os.path.abspath(image_dir)"
   ]
  },
  {
   "cell_type": "code",
   "execution_count": 16,
   "metadata": {},
   "outputs": [
    {
     "data": {
      "text/plain": [
       "6"
      ]
     },
     "execution_count": 16,
     "metadata": {},
     "output_type": "execute_result"
    }
   ],
   "source": [
    "num_classes = len(df.Type.unique())\n",
    "num_classes"
   ]
  },
  {
   "cell_type": "code",
   "execution_count": 17,
   "metadata": {},
   "outputs": [],
   "source": [
    "X = []\n",
    "Y = []"
   ]
  },
  {
   "cell_type": "code",
   "execution_count": 18,
   "metadata": {},
   "outputs": [],
   "source": [
    "for item, label in zip(df['Name'], df['Type']):\n",
    "    img_name = item + '.PNG'\n",
    "    img_path = os.path.join(image_dir_path, img_name)\n",
    "    assert os.path.exists(img_path)\n",
    "    img = cv2.resize(cv2.imread(img_path, cv2.IMREAD_COLOR), (num_rows, num_cols), interpolation = cv2.INTER_CUBIC)\n",
    "    X.append(img)\n",
    "    Y.append(label_map[label])"
   ]
  },
  {
   "cell_type": "code",
   "execution_count": 19,
   "metadata": {},
   "outputs": [
    {
     "data": {
      "image/png": "[encoded data removed]",
      "text/plain": [
       "<Figure size 432x288 with 1 Axes>"
      ]
     },
     "metadata": {
      "needs_background": "light"
     },
     "output_type": "display_data"
    }
   ],
   "source": [
    "#Visualize one image\n",
    "plt.imshow(X[0])\n",
    "plt.show()"
   ]
  },
  {
   "cell_type": "code",
   "execution_count": 20,
   "metadata": {},
   "outputs": [],
   "source": [
    "X_train = np.array(X)\n",
    "Y_train = np.array(Y)"
   ]
  },
  {
   "cell_type": "code",
   "execution_count": 21,
   "metadata": {},
   "outputs": [
    {
     "name": "stdout",
     "output_type": "stream",
     "text": [
      "(400, 100, 100, 3)\n",
      "(400,)\n"
     ]
    }
   ],
   "source": [
    "print(X_train.shape)\n",
    "print(Y_train.shape)"
   ]
  },
  {
   "cell_type": "code",
   "execution_count": 22,
   "metadata": {},
   "outputs": [],
   "source": [
    "import seaborn as sns"
   ]
  },
  {
   "cell_type": "code",
   "execution_count": 23,
   "metadata": {},
   "outputs": [
    {
     "data": {
      "text/plain": [
       "<matplotlib.axes._subplots.AxesSubplot at 0x7f3e71c5cf98>"
      ]
     },
     "execution_count": 23,
     "metadata": {},
     "output_type": "execute_result"
    },
    {
     "data": {
      "image/png": "[encoded data removed]",
      "text/plain": [
       "<Figure size 432x288 with 1 Axes>"
      ]
     },
     "metadata": {
      "needs_background": "light"
     },
     "output_type": "display_data"
    }
   ],
   "source": [
    "sns.countplot(Y_train)"
   ]
  },
  {
   "cell_type": "code",
   "execution_count": 24,
   "metadata": {},
   "outputs": [],
   "source": [
    "from tensorflow import keras"
   ]
  },
  {
   "cell_type": "code",
   "execution_count": 25,
   "metadata": {},
   "outputs": [],
   "source": [
    "model = keras.Sequential([\n",
    "    keras.layers.Flatten(input_shape = (num_rows, num_cols, num_channels)),\n",
    "    keras.layers.Dense(512, activation = 'relu'),\n",
    "    keras.layers.Dense(256, activation = 'relu'),\n",
    "    keras.layers.Dense(128, activation = 'relu'),\n",
    "    keras.layers.Dense(num_classes, activation = 'softmax')\n",
    "])"
   ]
  },
  {
   "cell_type": "code",
   "execution_count": 26,
   "metadata": {},
   "outputs": [
    {
     "name": "stdout",
     "output_type": "stream",
     "text": [
      "Model: \"sequential\"\n",
      "_________________________________________________________________\n",
      "Layer (type)                 Output Shape              Param #   \n",
      "=================================================================\n",
      "flatten (Flatten)            (None, 30000)             0         \n",
      "_________________________________________________________________\n",
      "dense (Dense)                (None, 512)               15360512  \n",
      "_________________________________________________________________\n",
      "dense_1 (Dense)              (None, 256)               131328    \n",
      "_________________________________________________________________\n",
      "dense_2 (Dense)              (None, 128)               32896     \n",
      "_________________________________________________________________\n",
      "dense_3 (Dense)              (None, 6)                 774       \n",
      "=================================================================\n",
      "Total params: 15,525,510\n",
      "Trainable params: 15,525,510\n",
      "Non-trainable params: 0\n",
      "_________________________________________________________________\n"
     ]
    }
   ],
   "source": [
    "model.summary()"
   ]
  },
  {
   "cell_type": "code",
   "execution_count": 27,
   "metadata": {},
   "outputs": [],
   "source": [
    "model.compile(optimizer = 'adam', loss = 'sparse_categorical_crossentropy', metrics = ['acc'])"
   ]
  },
  {
   "cell_type": "code",
   "execution_count": 28,
   "metadata": {},
   "outputs": [],
   "source": [
    "checkpoint = tf.keras.callbacks.ModelCheckpoint(filepath = 'model.h5', monitor = \"acc\", verbose = 1, save_best_only = True)"
   ]
  },
  {
   "cell_type": "code",
   "execution_count": 29,
   "metadata": {},
   "outputs": [
    {
     "name": "stdout",
     "output_type": "stream",
     "text": [
      "Train on 400 samples\n",
      "Epoch 1/100\n",
      "384/400 [===========================>..] - ETA: 0s - loss: 7220.1525 - acc: 0.1745\n",
      "Epoch 00001: acc improved from -inf to 0.18250, saving model to model.h5\n",
      "400/400 [==============================] - 6s 15ms/sample - loss: 7070.3375 - acc: 0.1825\n",
      "Epoch 2/100\n",
      "384/400 [===========================>..] - ETA: 0s - loss: 2275.1458 - acc: 0.2422\n",
      "Epoch 00002: acc improved from 0.18250 to 0.24250, saving model to model.h5\n",
      "400/400 [==============================] - 5s 12ms/sample - loss: 2260.0614 - acc: 0.2425\n",
      "Epoch 3/100\n",
      "384/400 [===========================>..] - ETA: 0s - loss: 2871.5175 - acc: 0.1901\n",
      "Epoch 00003: acc did not improve from 0.24250\n",
      "400/400 [==============================] - 2s 5ms/sample - loss: 2808.9876 - acc: 0.1925\n",
      "Epoch 4/100\n",
      "384/400 [===========================>..] - ETA: 0s - loss: 1895.0007 - acc: 0.2057\n",
      "Epoch 00004: acc did not improve from 0.24250\n",
      "400/400 [==============================] - 2s 5ms/sample - loss: 1912.3841 - acc: 0.2075\n",
      "Epoch 5/100\n",
      "384/400 [===========================>..] - ETA: 0s - loss: 1181.7673 - acc: 0.2474\n",
      "Epoch 00005: acc improved from 0.24250 to 0.25000, saving model to model.h5\n",
      "400/400 [==============================] - 5s 12ms/sample - loss: 1158.7433 - acc: 0.2500\n",
      "Epoch 6/100\n",
      "384/400 [===========================>..] - ETA: 0s - loss: 758.2169 - acc: 0.2839\n",
      "Epoch 00006: acc improved from 0.25000 to 0.27750, saving model to model.h5\n",
      "400/400 [==============================] - 4s 11ms/sample - loss: 765.6590 - acc: 0.2775\n",
      "Epoch 7/100\n",
      "384/400 [===========================>..] - ETA: 0s - loss: 579.7915 - acc: 0.2552\n",
      "Epoch 00007: acc did not improve from 0.27750\n",
      "400/400 [==============================] - 2s 6ms/sample - loss: 600.3569 - acc: 0.2475\n",
      "Epoch 8/100\n",
      "384/400 [===========================>..] - ETA: 0s - loss: 338.4828 - acc: 0.2917\n",
      "Epoch 00008: acc improved from 0.27750 to 0.29750, saving model to model.h5\n",
      "400/400 [==============================] - 5s 11ms/sample - loss: 333.6114 - acc: 0.2975\n",
      "Epoch 9/100\n",
      "384/400 [===========================>..] - ETA: 0s - loss: 282.7353 - acc: 0.3255\n",
      "Epoch 00009: acc improved from 0.29750 to 0.31750, saving model to model.h5\n",
      "400/400 [==============================] - 5s 12ms/sample - loss: 290.2309 - acc: 0.3175\n",
      "Epoch 10/100\n",
      "384/400 [===========================>..] - ETA: 0s - loss: 417.7594 - acc: 0.3438\n",
      "Epoch 00010: acc improved from 0.31750 to 0.34500, saving model to model.h5\n",
      "400/400 [==============================] - 4s 11ms/sample - loss: 412.2091 - acc: 0.3450\n",
      "Epoch 11/100\n",
      "384/400 [===========================>..] - ETA: 0s - loss: 392.7843 - acc: 0.3594\n",
      "Epoch 00011: acc improved from 0.34500 to 0.36250, saving model to model.h5\n",
      "400/400 [==============================] - 5s 11ms/sample - loss: 389.2653 - acc: 0.3625\n",
      "Epoch 12/100\n",
      "384/400 [===========================>..] - ETA: 0s - loss: 259.1867 - acc: 0.3698\n",
      "Epoch 00012: acc improved from 0.36250 to 0.36750, saving model to model.h5\n",
      "400/400 [==============================] - 4s 11ms/sample - loss: 264.8082 - acc: 0.3675\n",
      "Epoch 13/100\n",
      "384/400 [===========================>..] - ETA: 0s - loss: 300.0121 - acc: 0.2969\n",
      "Epoch 00013: acc did not improve from 0.36750\n",
      "400/400 [==============================] - 2s 5ms/sample - loss: 295.7482 - acc: 0.2950\n",
      "Epoch 14/100\n",
      "384/400 [===========================>..] - ETA: 0s - loss: 232.8868 - acc: 0.3958\n",
      "Epoch 00014: acc improved from 0.36750 to 0.38500, saving model to model.h5\n",
      "400/400 [==============================] - 5s 11ms/sample - loss: 238.2126 - acc: 0.3850\n",
      "Epoch 15/100\n",
      "384/400 [===========================>..] - ETA: 0s - loss: 308.2947 - acc: 0.3281\n",
      "Epoch 00015: acc did not improve from 0.38500\n",
      "400/400 [==============================] - 2s 5ms/sample - loss: 309.0031 - acc: 0.3300\n",
      "Epoch 16/100\n",
      "384/400 [===========================>..] - ETA: 0s - loss: 340.8459 - acc: 0.3333\n",
      "Epoch 00016: acc did not improve from 0.38500\n",
      "400/400 [==============================] - 2s 5ms/sample - loss: 343.6964 - acc: 0.3350\n",
      "Epoch 17/100\n",
      "384/400 [===========================>..] - ETA: 0s - loss: 196.2195 - acc: 0.4010\n",
      "Epoch 00017: acc improved from 0.38500 to 0.39500, saving model to model.h5\n",
      "400/400 [==============================] - 5s 12ms/sample - loss: 198.4387 - acc: 0.3950\n",
      "Epoch 18/100\n",
      "384/400 [===========================>..] - ETA: 0s - loss: 136.4917 - acc: 0.4115\n",
      "Epoch 00018: acc improved from 0.39500 to 0.41000, saving model to model.h5\n",
      "400/400 [==============================] - 4s 11ms/sample - loss: 138.6344 - acc: 0.4100\n",
      "Epoch 19/100\n",
      "384/400 [===========================>..] - ETA: 0s - loss: 261.3410 - acc: 0.3724\n",
      "Epoch 00019: acc did not improve from 0.41000\n",
      "400/400 [==============================] - 2s 6ms/sample - loss: 255.2990 - acc: 0.3700\n",
      "Epoch 20/100\n",
      "384/400 [===========================>..] - ETA: 0s - loss: 209.1011 - acc: 0.4089\n",
      "Epoch 00020: acc did not improve from 0.41000\n",
      "400/400 [==============================] - 2s 5ms/sample - loss: 209.5788 - acc: 0.4050\n",
      "Epoch 21/100\n",
      "384/400 [===========================>..] - ETA: 0s - loss: 159.1782 - acc: 0.4453\n",
      "Epoch 00021: acc improved from 0.41000 to 0.44500, saving model to model.h5\n",
      "400/400 [==============================] - 5s 12ms/sample - loss: 158.6502 - acc: 0.4450\n",
      "Epoch 22/100\n",
      "384/400 [===========================>..] - ETA: 0s - loss: 80.9902 - acc: 0.5130\n",
      "Epoch 00022: acc improved from 0.44500 to 0.51500, saving model to model.h5\n",
      "400/400 [==============================] - 4s 11ms/sample - loss: 78.9527 - acc: 0.5150\n",
      "Epoch 23/100\n",
      "384/400 [===========================>..] - ETA: 0s - loss: 67.5419 - acc: 0.5208\n",
      "Epoch 00023: acc improved from 0.51500 to 0.53250, saving model to model.h5\n",
      "400/400 [==============================] - 5s 11ms/sample - loss: 65.3069 - acc: 0.5325\n",
      "Epoch 24/100\n",
      "384/400 [===========================>..] - ETA: 0s - loss: 110.0917 - acc: 0.4818\n",
      "Epoch 00024: acc did not improve from 0.53250\n",
      "400/400 [==============================] - 2s 5ms/sample - loss: 107.9338 - acc: 0.4850\n",
      "Epoch 25/100\n",
      "384/400 [===========================>..] - ETA: 0s - loss: 60.6732 - acc: 0.6120\n",
      "Epoch 00025: acc improved from 0.53250 to 0.61750, saving model to model.h5\n",
      "400/400 [==============================] - 5s 11ms/sample - loss: 58.9441 - acc: 0.6175\n",
      "Epoch 26/100\n",
      "384/400 [===========================>..] - ETA: 0s - loss: 50.4425 - acc: 0.6302\n",
      "Epoch 00026: acc improved from 0.61750 to 0.62250, saving model to model.h5\n",
      "400/400 [==============================] - 4s 11ms/sample - loss: 50.8088 - acc: 0.6225\n",
      "Epoch 27/100\n",
      "384/400 [===========================>..] - ETA: 0s - loss: 95.5239 - acc: 0.4948\n",
      "Epoch 00027: acc did not improve from 0.62250\n",
      "400/400 [==============================] - 2s 5ms/sample - loss: 94.6392 - acc: 0.4975\n",
      "Epoch 28/100\n",
      "384/400 [===========================>..] - ETA: 0s - loss: 53.8758 - acc: 0.5677\n",
      "Epoch 00028: acc did not improve from 0.62250\n",
      "400/400 [==============================] - 2s 5ms/sample - loss: 52.4822 - acc: 0.5750\n",
      "Epoch 29/100\n",
      "384/400 [===========================>..] - ETA: 0s - loss: 47.2637 - acc: 0.6250\n",
      "Epoch 00029: acc improved from 0.62250 to 0.62750, saving model to model.h5\n",
      "400/400 [==============================] - 5s 12ms/sample - loss: 47.2332 - acc: 0.6275\n",
      "Epoch 30/100\n",
      "384/400 [===========================>..] - ETA: 0s - loss: 35.2525 - acc: 0.6042\n",
      "Epoch 00030: acc did not improve from 0.62750\n",
      "400/400 [==============================] - 2s 6ms/sample - loss: 35.5265 - acc: 0.6050\n",
      "Epoch 31/100\n",
      "384/400 [===========================>..] - ETA: 0s - loss: 116.6590 - acc: 0.4792\n",
      "Epoch 00031: acc did not improve from 0.62750\n",
      "400/400 [==============================] - 2s 5ms/sample - loss: 123.5857 - acc: 0.4675\n",
      "Epoch 32/100\n",
      "384/400 [===========================>..] - ETA: 0s - loss: 101.1743 - acc: 0.5260\n",
      "Epoch 00032: acc did not improve from 0.62750\n",
      "400/400 [==============================] - 2s 5ms/sample - loss: 108.1048 - acc: 0.5250\n",
      "Epoch 33/100\n",
      "384/400 [===========================>..] - ETA: 0s - loss: 105.7165 - acc: 0.4557\n",
      "Epoch 00033: acc did not improve from 0.62750\n",
      "400/400 [==============================] - 2s 5ms/sample - loss: 103.2038 - acc: 0.4575\n",
      "Epoch 34/100\n"
     ]
    },
    {
     "name": "stdout",
     "output_type": "stream",
     "text": [
      "384/400 [===========================>..] - ETA: 0s - loss: 95.0163 - acc: 0.4349\n",
      "Epoch 00034: acc did not improve from 0.62750\n",
      "400/400 [==============================] - 2s 5ms/sample - loss: 99.6726 - acc: 0.4225\n",
      "Epoch 35/100\n",
      "384/400 [===========================>..] - ETA: 0s - loss: 74.9976 - acc: 0.5182\n",
      "Epoch 00035: acc did not improve from 0.62750\n",
      "400/400 [==============================] - 2s 5ms/sample - loss: 74.9952 - acc: 0.5150\n",
      "Epoch 36/100\n",
      "384/400 [===========================>..] - ETA: 0s - loss: 53.2262 - acc: 0.5495\n",
      "Epoch 00036: acc did not improve from 0.62750\n",
      "400/400 [==============================] - 2s 5ms/sample - loss: 56.3087 - acc: 0.5425\n",
      "Epoch 37/100\n",
      "384/400 [===========================>..] - ETA: 0s - loss: 95.0474 - acc: 0.4219\n",
      "Epoch 00037: acc did not improve from 0.62750\n",
      "400/400 [==============================] - 2s 5ms/sample - loss: 91.8480 - acc: 0.4375\n",
      "Epoch 38/100\n",
      "384/400 [===========================>..] - ETA: 0s - loss: 75.0479 - acc: 0.5417\n",
      "Epoch 00038: acc did not improve from 0.62750\n",
      "400/400 [==============================] - 2s 5ms/sample - loss: 77.4214 - acc: 0.5425\n",
      "Epoch 39/100\n",
      "384/400 [===========================>..] - ETA: 0s - loss: 40.3847 - acc: 0.5677\n",
      "Epoch 00039: acc did not improve from 0.62750\n",
      "400/400 [==============================] - 2s 5ms/sample - loss: 40.8711 - acc: 0.5650\n",
      "Epoch 40/100\n",
      "384/400 [===========================>..] - ETA: 0s - loss: 32.8470 - acc: 0.5651\n",
      "Epoch 00040: acc did not improve from 0.62750\n",
      "400/400 [==============================] - 2s 5ms/sample - loss: 31.8436 - acc: 0.5750\n",
      "Epoch 41/100\n",
      "384/400 [===========================>..] - ETA: 0s - loss: 14.1522 - acc: 0.7292\n",
      "Epoch 00041: acc improved from 0.62750 to 0.73000, saving model to model.h5\n",
      "400/400 [==============================] - 4s 11ms/sample - loss: 13.9006 - acc: 0.7300\n",
      "Epoch 42/100\n",
      "384/400 [===========================>..] - ETA: 0s - loss: 6.4078 - acc: 0.8359\n",
      "Epoch 00042: acc improved from 0.73000 to 0.83500, saving model to model.h5\n",
      "400/400 [==============================] - 5s 11ms/sample - loss: 6.4682 - acc: 0.8350\n",
      "Epoch 43/100\n",
      "384/400 [===========================>..] - ETA: 0s - loss: 17.0046 - acc: 0.7083\n",
      "Epoch 00043: acc did not improve from 0.83500\n",
      "400/400 [==============================] - 2s 5ms/sample - loss: 16.4337 - acc: 0.7175\n",
      "Epoch 44/100\n",
      "384/400 [===========================>..] - ETA: 0s - loss: 18.1399 - acc: 0.6745\n",
      "Epoch 00044: acc did not improve from 0.83500\n",
      "400/400 [==============================] - 2s 5ms/sample - loss: 18.2207 - acc: 0.6775\n",
      "Epoch 45/100\n",
      "384/400 [===========================>..] - ETA: 0s - loss: 20.5816 - acc: 0.6797\n",
      "Epoch 00045: acc did not improve from 0.83500\n",
      "400/400 [==============================] - 2s 5ms/sample - loss: 19.9554 - acc: 0.6875\n",
      "Epoch 46/100\n",
      "384/400 [===========================>..] - ETA: 0s - loss: 20.0680 - acc: 0.6406\n",
      "Epoch 00046: acc did not improve from 0.83500\n",
      "400/400 [==============================] - 2s 5ms/sample - loss: 19.3282 - acc: 0.6500\n",
      "Epoch 47/100\n",
      "384/400 [===========================>..] - ETA: 0s - loss: 13.6151 - acc: 0.7500\n",
      "Epoch 00047: acc did not improve from 0.83500\n",
      "400/400 [==============================] - 2s 5ms/sample - loss: 13.4378 - acc: 0.7450\n",
      "Epoch 48/100\n",
      "384/400 [===========================>..] - ETA: 0s - loss: 10.6939 - acc: 0.7734\n",
      "Epoch 00048: acc did not improve from 0.83500\n",
      "400/400 [==============================] - 2s 5ms/sample - loss: 10.7342 - acc: 0.7650\n",
      "Epoch 49/100\n",
      "384/400 [===========================>..] - ETA: 0s - loss: 27.3853 - acc: 0.6927\n",
      "Epoch 00049: acc did not improve from 0.83500\n",
      "400/400 [==============================] - 2s 5ms/sample - loss: 28.1990 - acc: 0.6825\n",
      "Epoch 50/100\n",
      "384/400 [===========================>..] - ETA: 0s - loss: 26.2369 - acc: 0.7552\n",
      "Epoch 00050: acc did not improve from 0.83500\n",
      "400/400 [==============================] - 2s 5ms/sample - loss: 25.4001 - acc: 0.7525\n",
      "Epoch 51/100\n",
      "384/400 [===========================>..] - ETA: 0s - loss: 22.3992 - acc: 0.7266\n",
      "Epoch 00051: acc did not improve from 0.83500\n",
      "400/400 [==============================] - 2s 5ms/sample - loss: 21.6823 - acc: 0.7300\n",
      "Epoch 52/100\n",
      "384/400 [===========================>..] - ETA: 0s - loss: 11.2474 - acc: 0.7682\n",
      "Epoch 00052: acc did not improve from 0.83500\n",
      "400/400 [==============================] - 2s 5ms/sample - loss: 10.8845 - acc: 0.7700\n",
      "Epoch 53/100\n",
      "384/400 [===========================>..] - ETA: 0s - loss: 14.7731 - acc: 0.7214\n",
      "Epoch 00053: acc did not improve from 0.83500\n",
      "400/400 [==============================] - 2s 5ms/sample - loss: 16.4568 - acc: 0.7075\n",
      "Epoch 54/100\n",
      "384/400 [===========================>..] - ETA: 0s - loss: 54.6706 - acc: 0.5260\n",
      "Epoch 00054: acc did not improve from 0.83500\n",
      "400/400 [==============================] - 2s 5ms/sample - loss: 52.9512 - acc: 0.5275\n",
      "Epoch 55/100\n",
      "384/400 [===========================>..] - ETA: 0s - loss: 72.0368 - acc: 0.5286\n",
      "Epoch 00055: acc did not improve from 0.83500\n",
      "400/400 [==============================] - 2s 5ms/sample - loss: 70.5487 - acc: 0.5350\n",
      "Epoch 56/100\n",
      "384/400 [===========================>..] - ETA: 0s - loss: 43.0793 - acc: 0.5755\n",
      "Epoch 00056: acc did not improve from 0.83500\n",
      "400/400 [==============================] - 2s 5ms/sample - loss: 43.3252 - acc: 0.5725\n",
      "Epoch 57/100\n",
      "384/400 [===========================>..] - ETA: 0s - loss: 45.8447 - acc: 0.5130\n",
      "Epoch 00057: acc did not improve from 0.83500\n",
      "400/400 [==============================] - 2s 5ms/sample - loss: 45.7289 - acc: 0.5175\n",
      "Epoch 58/100\n",
      "384/400 [===========================>..] - ETA: 0s - loss: 137.6865 - acc: 0.3776\n",
      "Epoch 00058: acc did not improve from 0.83500\n",
      "400/400 [==============================] - 2s 5ms/sample - loss: 134.8926 - acc: 0.3800\n",
      "Epoch 59/100\n",
      "384/400 [===========================>..] - ETA: 0s - loss: 113.4260 - acc: 0.3385\n",
      "Epoch 00059: acc did not improve from 0.83500\n",
      "400/400 [==============================] - 3s 6ms/sample - loss: 114.9354 - acc: 0.3375\n",
      "Epoch 60/100\n",
      "384/400 [===========================>..] - ETA: 0s - loss: 125.9252 - acc: 0.3750\n",
      "Epoch 00060: acc did not improve from 0.83500\n",
      "400/400 [==============================] - 2s 6ms/sample - loss: 127.6207 - acc: 0.3675\n",
      "Epoch 61/100\n",
      "384/400 [===========================>..] - ETA: 0s - loss: 132.7037 - acc: 0.3021\n",
      "Epoch 00061: acc did not improve from 0.83500\n",
      "400/400 [==============================] - 2s 5ms/sample - loss: 133.8514 - acc: 0.3000\n",
      "Epoch 62/100\n",
      "384/400 [===========================>..] - ETA: 0s - loss: 149.2151 - acc: 0.2656\n",
      "Epoch 00062: acc did not improve from 0.83500\n",
      "400/400 [==============================] - 2s 5ms/sample - loss: 148.5775 - acc: 0.2650\n",
      "Epoch 63/100\n",
      "384/400 [===========================>..] - ETA: 0s - loss: 72.0700 - acc: 0.3542\n",
      "Epoch 00063: acc did not improve from 0.83500\n",
      "400/400 [==============================] - 2s 6ms/sample - loss: 70.5564 - acc: 0.3650\n",
      "Epoch 64/100\n",
      "384/400 [===========================>..] - ETA: 0s - loss: 56.8709 - acc: 0.3776\n",
      "Epoch 00064: acc did not improve from 0.83500\n",
      "400/400 [==============================] - 3s 7ms/sample - loss: 55.7530 - acc: 0.3800\n",
      "Epoch 65/100\n",
      "384/400 [===========================>..] - ETA: 0s - loss: 38.4502 - acc: 0.4896\n",
      "Epoch 00065: acc did not improve from 0.83500\n",
      "400/400 [==============================] - 2s 6ms/sample - loss: 38.5352 - acc: 0.4925\n",
      "Epoch 66/100\n",
      "384/400 [===========================>..] - ETA: 0s - loss: 30.4719 - acc: 0.5026\n",
      "Epoch 00066: acc did not improve from 0.83500\n",
      "400/400 [==============================] - 3s 7ms/sample - loss: 29.6990 - acc: 0.5125\n",
      "Epoch 67/100\n",
      "384/400 [===========================>..] - ETA: 0s - loss: 18.5309 - acc: 0.5104\n",
      "Epoch 00067: acc did not improve from 0.83500\n",
      "400/400 [==============================] - 3s 7ms/sample - loss: 18.1334 - acc: 0.5150\n",
      "Epoch 68/100\n",
      "384/400 [===========================>..] - ETA: 0s - loss: 12.0688 - acc: 0.5859\n",
      "Epoch 00068: acc did not improve from 0.83500\n",
      "400/400 [==============================] - 2s 6ms/sample - loss: 12.0358 - acc: 0.5875\n",
      "Epoch 69/100\n",
      "384/400 [===========================>..] - ETA: 0s - loss: 10.1313 - acc: 0.6823\n",
      "Epoch 00069: acc did not improve from 0.83500\n",
      "400/400 [==============================] - 3s 8ms/sample - loss: 10.0435 - acc: 0.6775\n"
     ]
    },
    {
     "name": "stdout",
     "output_type": "stream",
     "text": [
      "Epoch 70/100\n",
      "384/400 [===========================>..] - ETA: 0s - loss: 5.4259 - acc: 0.7083\n",
      "Epoch 00070: acc did not improve from 0.83500\n",
      "400/400 [==============================] - 2s 6ms/sample - loss: 5.2560 - acc: 0.7150\n",
      "Epoch 71/100\n",
      "384/400 [===========================>..] - ETA: 0s - loss: 4.4793 - acc: 0.7839\n",
      "Epoch 00071: acc did not improve from 0.83500\n",
      "400/400 [==============================] - 2s 6ms/sample - loss: 4.5776 - acc: 0.7725\n",
      "Epoch 72/100\n",
      "384/400 [===========================>..] - ETA: 0s - loss: 4.8247 - acc: 0.7240\n",
      "Epoch 00072: acc did not improve from 0.83500\n",
      "400/400 [==============================] - 2s 6ms/sample - loss: 4.8671 - acc: 0.7250\n",
      "Epoch 73/100\n",
      "384/400 [===========================>..] - ETA: 0s - loss: 6.3225 - acc: 0.6953\n",
      "Epoch 00073: acc did not improve from 0.83500\n",
      "400/400 [==============================] - 3s 6ms/sample - loss: 6.2537 - acc: 0.6975\n",
      "Epoch 74/100\n",
      "384/400 [===========================>..] - ETA: 0s - loss: 6.3907 - acc: 0.6979\n",
      "Epoch 00074: acc did not improve from 0.83500\n",
      "400/400 [==============================] - 3s 8ms/sample - loss: 6.2027 - acc: 0.7025\n",
      "Epoch 75/100\n",
      "384/400 [===========================>..] - ETA: 0s - loss: 3.7150 - acc: 0.7656\n",
      "Epoch 00075: acc did not improve from 0.83500\n",
      "400/400 [==============================] - 2s 6ms/sample - loss: 3.7642 - acc: 0.7625\n",
      "Epoch 76/100\n",
      "384/400 [===========================>..] - ETA: 0s - loss: 5.4493 - acc: 0.7083\n",
      "Epoch 00076: acc did not improve from 0.83500\n",
      "400/400 [==============================] - 3s 7ms/sample - loss: 5.4150 - acc: 0.7075\n",
      "Epoch 77/100\n",
      "384/400 [===========================>..] - ETA: 0s - loss: 4.7332 - acc: 0.7292\n",
      "Epoch 00077: acc did not improve from 0.83500\n",
      "400/400 [==============================] - 2s 6ms/sample - loss: 4.9474 - acc: 0.7225\n",
      "Epoch 78/100\n",
      "384/400 [===========================>..] - ETA: 0s - loss: 8.7459 - acc: 0.6120\n",
      "Epoch 00078: acc did not improve from 0.83500\n",
      "400/400 [==============================] - 2s 5ms/sample - loss: 8.6587 - acc: 0.6150\n",
      "Epoch 79/100\n",
      "384/400 [===========================>..] - ETA: 0s - loss: 7.1631 - acc: 0.7344\n",
      "Epoch 00079: acc did not improve from 0.83500\n",
      "400/400 [==============================] - 2s 5ms/sample - loss: 6.9106 - acc: 0.7400\n",
      "Epoch 80/100\n",
      "384/400 [===========================>..] - ETA: 0s - loss: 9.7186 - acc: 0.6927\n",
      "Epoch 00080: acc did not improve from 0.83500\n",
      "400/400 [==============================] - 2s 6ms/sample - loss: 10.6235 - acc: 0.6875\n",
      "Epoch 81/100\n",
      "384/400 [===========================>..] - ETA: 0s - loss: 12.5435 - acc: 0.5964\n",
      "Epoch 00081: acc did not improve from 0.83500\n",
      "400/400 [==============================] - 2s 5ms/sample - loss: 12.1636 - acc: 0.6100\n",
      "Epoch 82/100\n",
      "384/400 [===========================>..] - ETA: 0s - loss: 11.5234 - acc: 0.6641\n",
      "Epoch 00082: acc did not improve from 0.83500\n",
      "400/400 [==============================] - 2s 5ms/sample - loss: 11.7552 - acc: 0.6600\n",
      "Epoch 83/100\n",
      "384/400 [===========================>..] - ETA: 0s - loss: 9.8186 - acc: 0.6120 \n",
      "Epoch 00083: acc did not improve from 0.83500\n",
      "400/400 [==============================] - 2s 5ms/sample - loss: 10.3086 - acc: 0.6150\n",
      "Epoch 84/100\n",
      "384/400 [===========================>..] - ETA: 0s - loss: 9.2092 - acc: 0.6875\n",
      "Epoch 00084: acc did not improve from 0.83500\n",
      "400/400 [==============================] - 2s 6ms/sample - loss: 9.0910 - acc: 0.6850\n",
      "Epoch 85/100\n",
      "384/400 [===========================>..] - ETA: 0s - loss: 7.8576 - acc: 0.7109\n",
      "Epoch 00085: acc did not improve from 0.83500\n",
      "400/400 [==============================] - 2s 5ms/sample - loss: 7.7102 - acc: 0.7150\n",
      "Epoch 86/100\n",
      "384/400 [===========================>..] - ETA: 0s - loss: 5.5019 - acc: 0.7318\n",
      "Epoch 00086: acc did not improve from 0.83500\n",
      "400/400 [==============================] - 2s 5ms/sample - loss: 5.4056 - acc: 0.7325\n",
      "Epoch 87/100\n",
      "384/400 [===========================>..] - ETA: 0s - loss: 6.0401 - acc: 0.7240\n",
      "Epoch 00087: acc did not improve from 0.83500\n",
      "400/400 [==============================] - 2s 5ms/sample - loss: 5.8349 - acc: 0.7250\n",
      "Epoch 88/100\n",
      "384/400 [===========================>..] - ETA: 0s - loss: 3.9043 - acc: 0.7630\n",
      "Epoch 00088: acc did not improve from 0.83500\n",
      "400/400 [==============================] - 2s 5ms/sample - loss: 3.8036 - acc: 0.7675\n",
      "Epoch 89/100\n",
      "384/400 [===========================>..] - ETA: 0s - loss: 3.1345 - acc: 0.8151\n",
      "Epoch 00089: acc did not improve from 0.83500\n",
      "400/400 [==============================] - 2s 5ms/sample - loss: 3.0623 - acc: 0.8150\n",
      "Epoch 90/100\n",
      "384/400 [===========================>..] - ETA: 0s - loss: 4.2172 - acc: 0.7682\n",
      "Epoch 00090: acc did not improve from 0.83500\n",
      "400/400 [==============================] - 2s 5ms/sample - loss: 4.1876 - acc: 0.7600\n",
      "Epoch 91/100\n",
      "384/400 [===========================>..] - ETA: 0s - loss: 3.5849 - acc: 0.7708\n",
      "Epoch 00091: acc did not improve from 0.83500\n",
      "400/400 [==============================] - 2s 5ms/sample - loss: 3.4417 - acc: 0.7800\n",
      "Epoch 92/100\n",
      "384/400 [===========================>..] - ETA: 0s - loss: 5.3229 - acc: 0.7292\n",
      "Epoch 00092: acc did not improve from 0.83500\n",
      "400/400 [==============================] - 2s 5ms/sample - loss: 5.1307 - acc: 0.7375\n",
      "Epoch 93/100\n",
      "384/400 [===========================>..] - ETA: 0s - loss: 1.6853 - acc: 0.8854\n",
      "Epoch 00093: acc improved from 0.83500 to 0.88500, saving model to model.h5\n",
      "400/400 [==============================] - 5s 11ms/sample - loss: 1.6559 - acc: 0.8850\n",
      "Epoch 94/100\n",
      "384/400 [===========================>..] - ETA: 0s - loss: 3.0802 - acc: 0.7917\n",
      "Epoch 00094: acc did not improve from 0.88500\n",
      "400/400 [==============================] - 2s 5ms/sample - loss: 3.1951 - acc: 0.7775\n",
      "Epoch 95/100\n",
      "384/400 [===========================>..] - ETA: 0s - loss: 8.3193 - acc: 0.7083\n",
      "Epoch 00095: acc did not improve from 0.88500\n",
      "400/400 [==============================] - 2s 5ms/sample - loss: 8.4950 - acc: 0.6925\n",
      "Epoch 96/100\n",
      "384/400 [===========================>..] - ETA: 0s - loss: 20.6516 - acc: 0.6120\n",
      "Epoch 00096: acc did not improve from 0.88500\n",
      "400/400 [==============================] - 2s 5ms/sample - loss: 20.5080 - acc: 0.6075\n",
      "Epoch 97/100\n",
      "384/400 [===========================>..] - ETA: 0s - loss: 29.6970 - acc: 0.4245\n",
      "Epoch 00097: acc did not improve from 0.88500\n",
      "400/400 [==============================] - 2s 5ms/sample - loss: 29.7406 - acc: 0.4325\n",
      "Epoch 98/100\n",
      "384/400 [===========================>..] - ETA: 0s - loss: 12.1602 - acc: 0.5781\n",
      "Epoch 00098: acc did not improve from 0.88500\n",
      "400/400 [==============================] - 2s 5ms/sample - loss: 12.5228 - acc: 0.5675\n",
      "Epoch 99/100\n",
      "384/400 [===========================>..] - ETA: 0s - loss: 12.0516 - acc: 0.5964\n",
      "Epoch 00099: acc did not improve from 0.88500\n",
      "400/400 [==============================] - 2s 5ms/sample - loss: 12.1971 - acc: 0.5975\n",
      "Epoch 100/100\n",
      "384/400 [===========================>..] - ETA: 0s - loss: 4.7458 - acc: 0.7552\n",
      "Epoch 00100: acc did not improve from 0.88500\n",
      "400/400 [==============================] - 2s 5ms/sample - loss: 4.6692 - acc: 0.7600\n"
     ]
    }
   ],
   "source": [
    "history = model.fit(X_train, Y_train, epochs = 100, callbacks = [checkpoint])"
   ]
  },
  {
   "cell_type": "code",
   "execution_count": 30,
   "metadata": {},
   "outputs": [],
   "source": [
    "acc = history.history['acc']\n",
    "loss = history.history['loss']"
   ]
  },
  {
   "cell_type": "code",
   "execution_count": 31,
   "metadata": {},
   "outputs": [
    {
     "name": "stdout",
     "output_type": "stream",
     "text": [
      "Accuracy :  0.885\n"
     ]
    }
   ],
   "source": [
    "print(\"Accuracy : \", max(acc))"
   ]
  },
  {
   "cell_type": "code",
   "execution_count": 32,
   "metadata": {},
   "outputs": [
    {
     "name": "stdout",
     "output_type": "stream",
     "text": [
      "Loss :  1.655896077156067\n"
     ]
    }
   ],
   "source": [
    "print(\"Loss : \", min(loss))"
   ]
  },
  {
   "cell_type": "code",
   "execution_count": 33,
   "metadata": {},
   "outputs": [],
   "source": [
    "epochs = range(1, len(acc) + 1)"
   ]
  },
  {
   "cell_type": "code",
   "execution_count": 34,
   "metadata": {},
   "outputs": [
    {
     "data": {
      "text/plain": [
       "[<matplotlib.lines.Line2D at 0x7f3e60725278>]"
      ]
     },
     "execution_count": 34,
     "metadata": {},
     "output_type": "execute_result"
    },
    {
     "data": {
      "image/png": "[encoded data removed]",
      "text/plain": [
       "<Figure size 432x288 with 1 Axes>"
      ]
     },
     "metadata": {
      "needs_background": "light"
     },
     "output_type": "display_data"
    }
   ],
   "source": [
    "plt.plot(epochs, acc, 'b', label = 'Training Accuracy')"
   ]
  },
  {
   "cell_type": "code",
   "execution_count": 35,
   "metadata": {},
   "outputs": [
    {
     "data": {
      "text/plain": [
       "[<matplotlib.lines.Line2D at 0x7f3e6068a160>]"
      ]
     },
     "execution_count": 35,
     "metadata": {},
     "output_type": "execute_result"
    },
    {
     "data": {
      "image/png": "[encoded data removed]",
      "text/plain": [
       "<Figure size 432x288 with 1 Axes>"
      ]
     },
     "metadata": {
      "needs_background": "light"
     },
     "output_type": "display_data"
    }
   ],
   "source": [
    "plt.plot(epochs, loss, 'r', label = 'Training Loss')"
   ]
  },
  {
   "cell_type": "code",
   "execution_count": 36,
   "metadata": {},
   "outputs": [
    {
     "name": "stdout",
     "output_type": "stream",
     "text": [
      "dataset  model.h5  tag_predictor.ipynb\r\n"
     ]
    }
   ],
   "source": [
    "!ls"
   ]
  },
  {
   "cell_type": "code",
   "execution_count": 37,
   "metadata": {},
   "outputs": [],
   "source": [
    "test_image = 'dataset/test_image1.png'\n",
    "test_img = cv2.resize(cv2.imread(test_image, cv2.IMREAD_COLOR), (num_rows, num_cols), interpolation = cv2.INTER_CUBIC)"
   ]
  },
  {
   "cell_type": "code",
   "execution_count": 38,
   "metadata": {},
   "outputs": [
    {
     "data": {
      "image/png": "[encoded data removed]",
      "text/plain": [
       "<Figure size 432x288 with 1 Axes>"
      ]
     },
     "metadata": {
      "needs_background": "light"
     },
     "output_type": "display_data"
    }
   ],
   "source": [
    "plt.imshow(test_img)\n",
    "plt.show()"
   ]
  },
  {
   "cell_type": "code",
   "execution_count": 39,
   "metadata": {},
   "outputs": [],
   "source": [
    "x_test = np.array(test_img)"
   ]
  },
  {
   "cell_type": "code",
   "execution_count": 40,
   "metadata": {},
   "outputs": [
    {
     "data": {
      "text/plain": [
       "(100, 100, 3)"
      ]
     },
     "execution_count": 40,
     "metadata": {},
     "output_type": "execute_result"
    }
   ],
   "source": [
    "x_test.shape"
   ]
  },
  {
   "cell_type": "code",
   "execution_count": 41,
   "metadata": {},
   "outputs": [],
   "source": [
    "x_test = np.expand_dims(x_test, 0)"
   ]
  },
  {
   "cell_type": "code",
   "execution_count": 42,
   "metadata": {},
   "outputs": [
    {
     "data": {
      "text/plain": [
       "(1, 100, 100, 3)"
      ]
     },
     "execution_count": 42,
     "metadata": {},
     "output_type": "execute_result"
    }
   ],
   "source": [
    "x_test.shape"
   ]
  },
  {
   "cell_type": "code",
   "execution_count": 43,
   "metadata": {},
   "outputs": [],
   "source": [
    "prediction = model.predict(x_test)"
   ]
  },
  {
   "cell_type": "code",
   "execution_count": 44,
   "metadata": {},
   "outputs": [
    {
     "data": {
      "text/plain": [
       "array([[4.7173064e-32, 1.2028322e-19, 1.0000000e+00, 3.2619750e-34,\n",
       "        4.5368269e-34, 3.8128865e-30]], dtype=float32)"
      ]
     },
     "execution_count": 44,
     "metadata": {},
     "output_type": "execute_result"
    }
   ],
   "source": [
    "prediction"
   ]
  },
  {
   "cell_type": "code",
   "execution_count": 45,
   "metadata": {},
   "outputs": [
    {
     "data": {
      "text/plain": [
       "2"
      ]
     },
     "execution_count": 45,
     "metadata": {},
     "output_type": "execute_result"
    }
   ],
   "source": [
    "np.argmax(prediction[0])"
   ]
  },
  {
   "cell_type": "code",
   "execution_count": null,
   "metadata": {},
   "outputs": [],
   "source": []
  },
  {
   "cell_type": "code",
   "execution_count": null,
   "metadata": {},
   "outputs": [],
   "source": []
  }
 ],
 "metadata": {
  "kernelspec": {
   "display_name": "Python 3",
   "language": "python",
   "name": "python3"
  },
  "language_info": {
   "codemirror_mode": {
    "name": "ipython",
    "version": 3
   },
   "file_extension": ".py",
   "mimetype": "text/x-python",
   "name": "python",
   "nbconvert_exporter": "python",
   "pygments_lexer": "ipython3",
   "version": "3.6.8"
  }
 },
 "nbformat": 4,
 "nbformat_minor": 2
}
